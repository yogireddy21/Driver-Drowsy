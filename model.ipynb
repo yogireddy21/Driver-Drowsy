{
 "cells": [
  {
   "cell_type": "code",
   "execution_count": 2,
   "metadata": {},
   "outputs": [],
   "source": [
    "import os\n",
    "from keras.preprocessing import image\n",
    "import matplotlib.pyplot as plt \n",
    "import numpy as np\n",
    "from tensorflow.keras.utils import to_categorical\n",
    "import random,shutil\n",
    "from keras.models import Sequential\n",
    "from keras.layers import Dropout,Conv2D,Flatten,Dense, MaxPooling2D, BatchNormalization\n",
    "from keras.models import load_model"
   ]
  },
  {
   "cell_type": "code",
   "execution_count": 3,
   "metadata": {},
   "outputs": [],
   "source": [
    "def generator(dir, gen=image.ImageDataGenerator(rescale=1./255), shuffle=True,batch_size=1,target_size=(24,24),class_mode='categorical' ):\n",
    "\n",
    "    return gen.flow_from_directory(dir,batch_size=batch_size,shuffle=shuffle,color_mode='grayscale',class_mode=class_mode,target_size=target_size)"
   ]
  },
  {
   "cell_type": "code",
   "execution_count": 5,
   "metadata": {},
   "outputs": [
    {
     "name": "stdout",
     "output_type": "stream",
     "text": [
      "Found 433 images belonging to 4 classes.\n"
     ]
    },
    {
     "name": "stdout",
     "output_type": "stream",
     "text": [
      "Found 2467 images belonging to 4 classes.\n",
      "13 77\n"
     ]
    }
   ],
   "source": [
    "BS= 32\n",
    "TS=(24,24)\n",
    "train_batch= generator('dataset_new/test',shuffle=True, batch_size=BS,target_size=TS)\n",
    "valid_batch= generator('dataset_new/train',shuffle=True, batch_size=BS,target_size=TS)\n",
    "SPE= len(train_batch.classes)//BS\n",
    "VS = len(valid_batch.classes)//BS\n",
    "print(SPE,VS)"
   ]
  },
  {
   "cell_type": "code",
   "execution_count": 7,
   "metadata": {},
   "outputs": [
    {
     "name": "stdout",
     "output_type": "stream",
     "text": [
      "Epoch 1/15\n"
     ]
    },
    {
     "name": "stderr",
     "output_type": "stream",
     "text": [
      "C:\\Users\\yoges\\AppData\\Local\\Temp\\ipykernel_19620\\1844922408.py:23: UserWarning: `Model.fit_generator` is deprecated and will be removed in a future version. Please use `Model.fit`, which supports generators.\n",
      "  model.fit_generator(train_batch, validation_data=valid_batch, epochs=15, steps_per_epoch=SPE, validation_steps=VS)\n"
     ]
    },
    {
     "name": "stdout",
     "output_type": "stream",
     "text": [
      "13/13 [==============================] - 34s 3s/step - loss: 1.1160 - accuracy: 0.4888 - val_loss: 0.6999 - val_accuracy: 0.7163\n",
      "Epoch 2/15\n",
      "13/13 [==============================] - 6s 450ms/step - loss: 0.6243 - accuracy: 0.7332 - val_loss: 0.5355 - val_accuracy: 0.7492\n",
      "Epoch 3/15\n",
      "13/13 [==============================] - 6s 453ms/step - loss: 0.4886 - accuracy: 0.7805 - val_loss: 0.4804 - val_accuracy: 0.7812\n",
      "Epoch 4/15\n",
      "13/13 [==============================] - 5s 447ms/step - loss: 0.3925 - accuracy: 0.8404 - val_loss: 0.4618 - val_accuracy: 0.7764\n",
      "Epoch 5/15\n",
      "13/13 [==============================] - 6s 448ms/step - loss: 0.4378 - accuracy: 0.8105 - val_loss: 0.4551 - val_accuracy: 0.7606\n",
      "Epoch 6/15\n",
      "13/13 [==============================] - 6s 486ms/step - loss: 0.3877 - accuracy: 0.8080 - val_loss: 0.4705 - val_accuracy: 0.7829\n",
      "Epoch 7/15\n",
      "13/13 [==============================] - 6s 456ms/step - loss: 0.2994 - accuracy: 0.8603 - val_loss: 0.4826 - val_accuracy: 0.7788\n",
      "Epoch 8/15\n",
      "13/13 [==============================] - 6s 459ms/step - loss: 0.2868 - accuracy: 0.8853 - val_loss: 0.4792 - val_accuracy: 0.7881\n",
      "Epoch 9/15\n",
      "13/13 [==============================] - 6s 460ms/step - loss: 0.3285 - accuracy: 0.8579 - val_loss: 0.4514 - val_accuracy: 0.7950\n",
      "Epoch 10/15\n",
      "13/13 [==============================] - 6s 453ms/step - loss: 0.2511 - accuracy: 0.9052 - val_loss: 0.5465 - val_accuracy: 0.7699\n",
      "Epoch 11/15\n",
      "13/13 [==============================] - 6s 454ms/step - loss: 0.2496 - accuracy: 0.8828 - val_loss: 0.5294 - val_accuracy: 0.7784\n",
      "Epoch 12/15\n",
      "13/13 [==============================] - 6s 455ms/step - loss: 0.2029 - accuracy: 0.9127 - val_loss: 0.5184 - val_accuracy: 0.8068\n",
      "Epoch 13/15\n",
      "13/13 [==============================] - 6s 459ms/step - loss: 0.1721 - accuracy: 0.9401 - val_loss: 0.5473 - val_accuracy: 0.7999\n",
      "Epoch 14/15\n",
      "13/13 [==============================] - 6s 453ms/step - loss: 0.1711 - accuracy: 0.9377 - val_loss: 0.5166 - val_accuracy: 0.8080\n",
      "Epoch 15/15\n",
      "13/13 [==============================] - 6s 457ms/step - loss: 0.1749 - accuracy: 0.9279 - val_loss: 0.5955 - val_accuracy: 0.7934\n"
     ]
    },
    {
     "name": "stderr",
     "output_type": "stream",
     "text": [
      "c:\\Users\\yoges\\Lib\\site-packages\\keras\\src\\engine\\training.py:3103: UserWarning: You are saving your model as an HDF5 file via `model.save()`. This file format is considered legacy. We recommend using instead the native Keras format, e.g. `model.save('my_model.keras')`.\n",
      "  saving_api.save_model(\n"
     ]
    }
   ],
   "source": [
    "from keras.models import Sequential\n",
    "from keras.layers import Conv2D, MaxPooling2D, Dropout, Flatten, Dense\n",
    "from tensorflow.keras.utils import to_categorical\n",
    "\n",
    "# Assuming you have defined train_batch, valid_batch, SPE, VS, and other necessary variables\n",
    "\n",
    "model = Sequential([\n",
    "    Conv2D(32, kernel_size=(3, 3), activation='relu', input_shape=(24, 24, 1)),\n",
    "    MaxPooling2D(pool_size=(1, 1)),\n",
    "    Conv2D(32, (3, 3), activation='relu'),\n",
    "    MaxPooling2D(pool_size=(1, 1)),\n",
    "    Conv2D(64, (3, 3), activation='relu'),\n",
    "    MaxPooling2D(pool_size=(1, 1)),\n",
    "    Dropout(0.25),\n",
    "    Flatten(),\n",
    "    Dense(128, activation='relu'),\n",
    "    Dropout(0.5),\n",
    "    Dense(4, activation='softmax')  # Updated to match the number of classes in your data\n",
    "])\n",
    "\n",
    "model.compile(optimizer='adam', loss='categorical_crossentropy', metrics=['accuracy'])\n",
    "\n",
    "model.fit_generator(train_batch, validation_data=valid_batch, epochs=15, steps_per_epoch=SPE, validation_steps=VS)\n",
    "\n",
    "model.save('models/cnnCat3.h5', overwrite=True)\n"
   ]
  }
 ],
 "metadata": {
  "kernelspec": {
   "display_name": "Python 3",
   "language": "python",
   "name": "python3"
  },
  "language_info": {
   "codemirror_mode": {
    "name": "ipython",
    "version": 3
   },
   "file_extension": ".py",
   "mimetype": "text/x-python",
   "name": "python",
   "nbconvert_exporter": "python",
   "pygments_lexer": "ipython3",
   "version": "3.11.5"
  }
 },
 "nbformat": 4,
 "nbformat_minor": 2
}
